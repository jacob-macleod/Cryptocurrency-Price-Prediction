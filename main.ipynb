{
 "cells": [
  {
   "cell_type": "code",
   "execution_count": 1,
   "id": "8d85388a",
   "metadata": {
    "execution": {
     "iopub.execute_input": "2023-02-20T16:09:23.799449Z",
     "iopub.status.busy": "2023-02-20T16:09:23.798783Z",
     "iopub.status.idle": "2023-02-20T16:09:23.813710Z",
     "shell.execute_reply": "2023-02-20T16:09:23.812643Z"
    },
    "id": "qLIYTx3aZ01m",
    "papermill": {
     "duration": 0.026553,
     "end_time": "2023-02-20T16:09:23.816097",
     "exception": false,
     "start_time": "2023-02-20T16:09:23.789544",
     "status": "completed"
    },
    "tags": []
   },
   "outputs": [],
   "source": [
    "# Import some libraries\n",
    "import pandas as pd\n",
    "import numpy as np\n",
    "%matplotlib inline\n",
    "import matplotlib.pyplot as plt"
   ]
  },
  {
   "cell_type": "code",
   "execution_count": 2,
   "id": "530cc05b",
   "metadata": {
    "execution": {
     "iopub.execute_input": "2023-02-20T16:09:23.827003Z",
     "iopub.status.busy": "2023-02-20T16:09:23.826634Z",
     "iopub.status.idle": "2023-02-20T16:09:27.796909Z",
     "shell.execute_reply": "2023-02-20T16:09:27.795811Z"
    },
    "id": "Z_RDArXLZ01q",
    "outputId": "2af6deca-e625-42eb-ec55-6c2e5baec1ca",
    "papermill": {
     "duration": 3.978535,
     "end_time": "2023-02-20T16:09:27.799474",
     "exception": false,
     "start_time": "2023-02-20T16:09:23.820939",
     "status": "completed"
    },
    "tags": []
   },
   "outputs": [
    {
     "data": {
      "text/html": [
       "<div>\n",
       "<style scoped>\n",
       "    .dataframe tbody tr th:only-of-type {\n",
       "        vertical-align: middle;\n",
       "    }\n",
       "\n",
       "    .dataframe tbody tr th {\n",
       "        vertical-align: top;\n",
       "    }\n",
       "\n",
       "    .dataframe thead th {\n",
       "        text-align: right;\n",
       "    }\n",
       "</style>\n",
       "<table border=\"1\" class=\"dataframe\">\n",
       "  <thead>\n",
       "    <tr style=\"text-align: right;\">\n",
       "      <th></th>\n",
       "      <th>timestamp</th>\n",
       "      <th>open</th>\n",
       "      <th>high</th>\n",
       "      <th>low</th>\n",
       "      <th>close</th>\n",
       "      <th>volume</th>\n",
       "    </tr>\n",
       "  </thead>\n",
       "  <tbody>\n",
       "    <tr>\n",
       "      <th>0</th>\n",
       "      <td>2018-01-01 00:01:00</td>\n",
       "      <td>13707.91</td>\n",
       "      <td>13707.91</td>\n",
       "      <td>13666.11</td>\n",
       "      <td>13694.92</td>\n",
       "      <td>2.113</td>\n",
       "    </tr>\n",
       "    <tr>\n",
       "      <th>1</th>\n",
       "      <td>2018-01-01 00:02:00</td>\n",
       "      <td>13682.00</td>\n",
       "      <td>13694.94</td>\n",
       "      <td>13680.00</td>\n",
       "      <td>13680.00</td>\n",
       "      <td>1.347</td>\n",
       "    </tr>\n",
       "    <tr>\n",
       "      <th>2</th>\n",
       "      <td>2018-01-01 00:03:00</td>\n",
       "      <td>13679.98</td>\n",
       "      <td>13679.98</td>\n",
       "      <td>13601.00</td>\n",
       "      <td>13645.99</td>\n",
       "      <td>11.586</td>\n",
       "    </tr>\n",
       "    <tr>\n",
       "      <th>3</th>\n",
       "      <td>2018-01-01 00:04:00</td>\n",
       "      <td>13645.98</td>\n",
       "      <td>13646.00</td>\n",
       "      <td>13576.28</td>\n",
       "      <td>13600.00</td>\n",
       "      <td>15.730</td>\n",
       "    </tr>\n",
       "    <tr>\n",
       "      <th>4</th>\n",
       "      <td>2018-01-01 00:05:00</td>\n",
       "      <td>13600.00</td>\n",
       "      <td>13600.00</td>\n",
       "      <td>13554.44</td>\n",
       "      <td>13568.00</td>\n",
       "      <td>6.395</td>\n",
       "    </tr>\n",
       "  </tbody>\n",
       "</table>\n",
       "</div>"
      ],
      "text/plain": [
       "             timestamp      open      high       low     close  volume\n",
       "0  2018-01-01 00:01:00  13707.91  13707.91  13666.11  13694.92   2.113\n",
       "1  2018-01-01 00:02:00  13682.00  13694.94  13680.00  13680.00   1.347\n",
       "2  2018-01-01 00:03:00  13679.98  13679.98  13601.00  13645.99  11.586\n",
       "3  2018-01-01 00:04:00  13645.98  13646.00  13576.28  13600.00  15.730\n",
       "4  2018-01-01 00:05:00  13600.00  13600.00  13554.44  13568.00   6.395"
      ]
     },
     "execution_count": 2,
     "metadata": {},
     "output_type": "execute_result"
    }
   ],
   "source": [
    "# Import the dataset\n",
    "# For a local installation where the file is in the same folder as this file\n",
    "#df = pd.read_csv(\"Bitcoin_BTCUSDT.csv\")\n",
    "# For kaggle, if the dataset (which wasn't made by me) is added\n",
    "df = pd.read_csv(\"/kaggle/input/bitcoin-btcusdt/Bitcoin_BTCUSDT.csv\")\n",
    "df.head()"
   ]
  },
  {
   "cell_type": "markdown",
   "id": "e6602454",
   "metadata": {
    "papermill": {
     "duration": 0.0044,
     "end_time": "2023-02-20T16:09:27.809096",
     "exception": false,
     "start_time": "2023-02-20T16:09:27.804696",
     "status": "completed"
    },
    "tags": []
   },
   "source": [
    "## Set up a subset of the model\n",
    "Create a subset of the data, which will be used to train the model multiple times to find the correct parameters\n",
    "\n",
    "A size of 1000 has been chosen to hopefully show as much data as needed to make an initial prediction while keeping the sample size small, allowing it to be trained may times"
   ]
  },
  {
   "cell_type": "code",
   "execution_count": 3,
   "id": "46ef5783",
   "metadata": {
    "execution": {
     "iopub.execute_input": "2023-02-20T16:09:27.820144Z",
     "iopub.status.busy": "2023-02-20T16:09:27.819755Z",
     "iopub.status.idle": "2023-02-20T16:09:27.842115Z",
     "shell.execute_reply": "2023-02-20T16:09:27.840389Z"
    },
    "id": "cJJXm8JFZ01s",
    "outputId": "4ffb7e89-d3fb-4c5c-f603-3376e7528aee",
    "papermill": {
     "duration": 0.032029,
     "end_time": "2023-02-20T16:09:27.845694",
     "exception": false,
     "start_time": "2023-02-20T16:09:27.813665",
     "status": "completed"
    },
    "tags": []
   },
   "outputs": [
    {
     "name": "stdout",
     "output_type": "stream",
     "text": [
      "1000\n"
     ]
    },
    {
     "data": {
      "text/html": [
       "<div>\n",
       "<style scoped>\n",
       "    .dataframe tbody tr th:only-of-type {\n",
       "        vertical-align: middle;\n",
       "    }\n",
       "\n",
       "    .dataframe tbody tr th {\n",
       "        vertical-align: top;\n",
       "    }\n",
       "\n",
       "    .dataframe thead th {\n",
       "        text-align: right;\n",
       "    }\n",
       "</style>\n",
       "<table border=\"1\" class=\"dataframe\">\n",
       "  <thead>\n",
       "    <tr style=\"text-align: right;\">\n",
       "      <th></th>\n",
       "      <th>y</th>\n",
       "    </tr>\n",
       "  </thead>\n",
       "  <tbody>\n",
       "    <tr>\n",
       "      <th>0</th>\n",
       "      <td>13707.91</td>\n",
       "    </tr>\n",
       "    <tr>\n",
       "      <th>1</th>\n",
       "      <td>13682.00</td>\n",
       "    </tr>\n",
       "    <tr>\n",
       "      <th>2</th>\n",
       "      <td>13679.98</td>\n",
       "    </tr>\n",
       "    <tr>\n",
       "      <th>3</th>\n",
       "      <td>13645.98</td>\n",
       "    </tr>\n",
       "    <tr>\n",
       "      <th>4</th>\n",
       "      <td>13600.00</td>\n",
       "    </tr>\n",
       "  </tbody>\n",
       "</table>\n",
       "</div>"
      ],
      "text/plain": [
       "          y\n",
       "0  13707.91\n",
       "1  13682.00\n",
       "2  13679.98\n",
       "3  13645.98\n",
       "4  13600.00"
      ]
     },
     "execution_count": 3,
     "metadata": {},
     "output_type": "execute_result"
    }
   ],
   "source": [
    "# Generate y values - the thing we're trying to predict\n",
    "y = df[\"open\"].iloc[:1000]\n",
    "\n",
    "# Generate x values. Make these numbers from 0 to len(y)\n",
    "#x = []\n",
    "#for i in range(0, len(y)):\n",
    "    #x.append(str(i))\n",
    "\n",
    "# Create our dataframe\n",
    "data_shortened = pd.DataFrame()\n",
    "print (len(y))\n",
    "#print (len(x))\n",
    "#data_shortened[\"x\"] = x\n",
    "data_shortened[\"y\"] = y\n",
    "data_shortened.head()"
   ]
  },
  {
   "cell_type": "code",
   "execution_count": 4,
   "id": "3b3023be",
   "metadata": {
    "execution": {
     "iopub.execute_input": "2023-02-20T16:09:27.857327Z",
     "iopub.status.busy": "2023-02-20T16:09:27.856917Z",
     "iopub.status.idle": "2023-02-20T16:09:28.100972Z",
     "shell.execute_reply": "2023-02-20T16:09:28.099804Z"
    },
    "id": "9N26f1tKZ01t",
    "outputId": "0cf81f22-1133-45a4-820c-cdc190da784c",
    "papermill": {
     "duration": 0.252137,
     "end_time": "2023-02-20T16:09:28.102959",
     "exception": false,
     "start_time": "2023-02-20T16:09:27.850822",
     "status": "completed"
    },
    "tags": []
   },
   "outputs": [
    {
     "data": {
      "text/plain": [
       "<AxesSubplot:>"
      ]
     },
     "execution_count": 4,
     "metadata": {},
     "output_type": "execute_result"
    },
    {
     "data": {
      "image/png": "[encoded data removed]",
      "text/plain": [
       "<Figure size 640x480 with 1 Axes>"
      ]
     },
     "metadata": {},
     "output_type": "display_data"
    }
   ],
   "source": [
    "data_shortened.plot()"
   ]
  },
  {
   "cell_type": "code",
   "execution_count": 5,
   "id": "ec7f1056",
   "metadata": {
    "execution": {
     "iopub.execute_input": "2023-02-20T16:09:28.115378Z",
     "iopub.status.busy": "2023-02-20T16:09:28.114964Z",
     "iopub.status.idle": "2023-02-20T16:09:28.122145Z",
     "shell.execute_reply": "2023-02-20T16:09:28.120336Z"
    },
    "id": "Z2Z-r4CWZ01t",
    "papermill": {
     "duration": 0.016006,
     "end_time": "2023-02-20T16:09:28.124342",
     "exception": false,
     "start_time": "2023-02-20T16:09:28.108336",
     "status": "completed"
    },
    "tags": []
   },
   "outputs": [],
   "source": [
    "# Now we can do a test/train split\n",
    "\n",
    "# Let's say 5% of the data is the test set\n",
    "test_percent = 0.05\n",
    "\n",
    "# Get the number of entries we want from the data_shortened dataset\n",
    "test_point = np.round(len(data_shortened) * test_percent)\n",
    "\n",
    "# Find the point to split off at\n",
    "test_ind = int(len(data_shortened)-test_point)\n",
    "\n",
    "# Define the test and train datasets\n",
    "train_shortened = data_shortened.iloc[:test_ind]\n",
    "test_shortened = data_shortened.iloc[test_ind:]"
   ]
  },
  {
   "cell_type": "code",
   "execution_count": 6,
   "id": "3cc6f732",
   "metadata": {
    "execution": {
     "iopub.execute_input": "2023-02-20T16:09:28.137000Z",
     "iopub.status.busy": "2023-02-20T16:09:28.136645Z",
     "iopub.status.idle": "2023-02-20T16:09:29.117842Z",
     "shell.execute_reply": "2023-02-20T16:09:29.116499Z"
    },
    "papermill": {
     "duration": 0.990203,
     "end_time": "2023-02-20T16:09:29.120366",
     "exception": false,
     "start_time": "2023-02-20T16:09:28.130163",
     "status": "completed"
    },
    "tags": []
   },
   "outputs": [],
   "source": [
    "# Scale the data\n",
    "from sklearn.preprocessing import MinMaxScaler\n",
    "\n",
    "# Choose the scaler\n",
    "scaler = MinMaxScaler()\n",
    "\n",
    "# Scale the data\n",
    "scaler.fit(train_shortened)\n",
    "scaled_shortened_train = scaler.transform(train_shortened)\n",
    "scaled_shortened_test = scaler.transform(test_shortened)"
   ]
  },
  {
   "cell_type": "code",
   "execution_count": 7,
   "id": "38e0d522",
   "metadata": {
    "execution": {
     "iopub.execute_input": "2023-02-20T16:09:29.133598Z",
     "iopub.status.busy": "2023-02-20T16:09:29.133118Z",
     "iopub.status.idle": "2023-02-20T16:09:37.217500Z",
     "shell.execute_reply": "2023-02-20T16:09:37.216186Z"
    },
    "papermill": {
     "duration": 8.093921,
     "end_time": "2023-02-20T16:09:37.220010",
     "exception": false,
     "start_time": "2023-02-20T16:09:29.126089",
     "status": "completed"
    },
    "tags": []
   },
   "outputs": [],
   "source": [
    "# Create batches for training\n",
    "from tensorflow.keras.preprocessing.sequence import TimeseriesGenerator\n",
    "\n",
    "# Define characteristics\n",
    "length = 100\n",
    "batch_size = 4\n",
    "\n",
    "# Create generator\n",
    "generator = TimeseriesGenerator(scaled_shortened_train, scaled_shortened_train, length=length, batch_size=batch_size)\n"
   ]
  },
  {
   "cell_type": "markdown",
   "id": "d3f984b0",
   "metadata": {
    "papermill": {
     "duration": 0.004958,
     "end_time": "2023-02-20T16:09:37.230557",
     "exception": false,
     "start_time": "2023-02-20T16:09:37.225599",
     "status": "completed"
    },
    "tags": []
   },
   "source": [
    "## Train the initial model\n",
    "\n",
    "Next, we need to create and train the initial shortened model"
   ]
  },
  {
   "cell_type": "code",
   "execution_count": 8,
   "id": "a4d865ad",
   "metadata": {
    "execution": {
     "iopub.execute_input": "2023-02-20T16:09:37.242937Z",
     "iopub.status.busy": "2023-02-20T16:09:37.242300Z",
     "iopub.status.idle": "2023-02-20T16:09:37.465584Z",
     "shell.execute_reply": "2023-02-20T16:09:37.463966Z"
    },
    "papermill": {
     "duration": 0.231937,
     "end_time": "2023-02-20T16:09:37.467633",
     "exception": false,
     "start_time": "2023-02-20T16:09:37.235696",
     "status": "completed"
    },
    "tags": []
   },
   "outputs": [
    {
     "name": "stderr",
     "output_type": "stream",
     "text": [
      "2023-02-20 16:09:37.271333: W tensorflow/stream_executor/platform/default/dso_loader.cc:64] Could not load dynamic library 'libcuda.so.1'; dlerror: libcuda.so.1: cannot open shared object file: No such file or directory; LD_LIBRARY_PATH: /usr/local/cuda/lib64:/usr/local/cuda/lib:/usr/local/lib/x86_64-linux-gnu:/usr/local/nvidia/lib:/usr/local/nvidia/lib64::/opt/conda/lib\n",
      "2023-02-20 16:09:37.271377: W tensorflow/stream_executor/cuda/cuda_driver.cc:269] failed call to cuInit: UNKNOWN ERROR (303)\n"
     ]
    }
   ],
   "source": [
    "# Create the model\n",
    "from tensorflow.keras.models import Sequential\n",
    "from tensorflow.keras.layers import SimpleRNN, Dense\n",
    "\n",
    "# Model feature\n",
    "n_features = 1\n",
    "\n",
    "# Define model\n",
    "model = Sequential()\n",
    "model.add(SimpleRNN(50, input_shape=(length, n_features)))\n",
    "# Output size and type\n",
    "model.add(Dense(1))\n",
    "\n",
    "# Compile\n",
    "model.compile(optimizer=\"adam\", loss=\"mse\")"
   ]
  },
  {
   "cell_type": "code",
   "execution_count": 9,
   "id": "9ef95765",
   "metadata": {
    "execution": {
     "iopub.execute_input": "2023-02-20T16:09:37.481419Z",
     "iopub.status.busy": "2023-02-20T16:09:37.480893Z",
     "iopub.status.idle": "2023-02-20T16:09:37.501177Z",
     "shell.execute_reply": "2023-02-20T16:09:37.500404Z"
    },
    "papermill": {
     "duration": 0.029917,
     "end_time": "2023-02-20T16:09:37.503041",
     "exception": false,
     "start_time": "2023-02-20T16:09:37.473124",
     "status": "completed"
    },
    "tags": []
   },
   "outputs": [
    {
     "name": "stdout",
     "output_type": "stream",
     "text": [
      "Model: \"sequential\"\n",
      "_________________________________________________________________\n",
      " Layer (type)                Output Shape              Param #   \n",
      "=================================================================\n",
      " simple_rnn (SimpleRNN)      (None, 50)                2600      \n",
      "                                                                 \n",
      " dense (Dense)               (None, 1)                 51        \n",
      "                                                                 \n",
      "=================================================================\n",
      "Total params: 2,651\n",
      "Trainable params: 2,651\n",
      "Non-trainable params: 0\n",
      "_________________________________________________________________\n"
     ]
    }
   ],
   "source": [
    "# Check if the details are correct\n",
    "model.summary()"
   ]
  },
  {
   "cell_type": "code",
   "execution_count": 10,
   "id": "177d3e3b",
   "metadata": {
    "execution": {
     "iopub.execute_input": "2023-02-20T16:09:37.517024Z",
     "iopub.status.busy": "2023-02-20T16:09:37.516635Z",
     "iopub.status.idle": "2023-02-20T16:10:23.371116Z",
     "shell.execute_reply": "2023-02-20T16:10:23.369431Z"
    },
    "papermill": {
     "duration": 45.864511,
     "end_time": "2023-02-20T16:10:23.373769",
     "exception": false,
     "start_time": "2023-02-20T16:09:37.509258",
     "status": "completed"
    },
    "tags": []
   },
   "outputs": [
    {
     "name": "stdout",
     "output_type": "stream",
     "text": [
      "Epoch 1/10\n"
     ]
    },
    {
     "name": "stderr",
     "output_type": "stream",
     "text": [
      "/opt/conda/lib/python3.7/site-packages/ipykernel_launcher.py:2: UserWarning: `Model.fit_generator` is deprecated and will be removed in a future version. Please use `Model.fit`, which supports generators.\n",
      "  \n"
     ]
    },
    {
     "name": "stdout",
     "output_type": "stream",
     "text": [
      "213/213 [==============================] - 4s 13ms/step - loss: 0.0110\n",
      "Epoch 2/10\n",
      "213/213 [==============================] - 3s 15ms/step - loss: 0.0013\n",
      "Epoch 3/10\n",
      "213/213 [==============================] - 3s 14ms/step - loss: 0.0013\n",
      "Epoch 4/10\n",
      "213/213 [==============================] - 3s 13ms/step - loss: 9.7135e-04\n",
      "Epoch 5/10\n",
      "213/213 [==============================] - 3s 13ms/step - loss: 8.9060e-04\n",
      "Epoch 6/10\n",
      "213/213 [==============================] - 3s 16ms/step - loss: 9.7007e-04\n",
      "Epoch 7/10\n",
      "213/213 [==============================] - 3s 15ms/step - loss: 8.3155e-04\n",
      "Epoch 8/10\n",
      "213/213 [==============================] - 3s 14ms/step - loss: 8.5863e-04\n",
      "Epoch 9/10\n",
      "213/213 [==============================] - 3s 13ms/step - loss: 0.0010\n",
      "Epoch 10/10\n",
      "213/213 [==============================] - 3s 14ms/step - loss: 8.1280e-04\n"
     ]
    },
    {
     "data": {
      "text/plain": [
       "<keras.callbacks.History at 0x7f8f2d4bc950>"
      ]
     },
     "execution_count": 10,
     "metadata": {},
     "output_type": "execute_result"
    }
   ],
   "source": [
    "# Train the model\n",
    "model.fit_generator(generator, epochs=10)"
   ]
  },
  {
   "cell_type": "markdown",
   "id": "4294a8f9",
   "metadata": {
    "papermill": {
     "duration": 0.037077,
     "end_time": "2023-02-20T16:10:23.448976",
     "exception": false,
     "start_time": "2023-02-20T16:10:23.411899",
     "status": "completed"
    },
    "tags": []
   },
   "source": [
    "## Evaluate the shortened model\n",
    "\n",
    "Now, I need to evaluate this shortened model and make any changes as required"
   ]
  },
  {
   "cell_type": "code",
   "execution_count": 11,
   "id": "a95ea5ec",
   "metadata": {
    "execution": {
     "iopub.execute_input": "2023-02-20T16:10:23.524661Z",
     "iopub.status.busy": "2023-02-20T16:10:23.524215Z",
     "iopub.status.idle": "2023-02-20T16:10:23.699266Z",
     "shell.execute_reply": "2023-02-20T16:10:23.698068Z"
    },
    "papermill": {
     "duration": 0.215268,
     "end_time": "2023-02-20T16:10:23.701742",
     "exception": false,
     "start_time": "2023-02-20T16:10:23.486474",
     "status": "completed"
    },
    "tags": []
   },
   "outputs": [
    {
     "data": {
      "text/plain": [
       "<AxesSubplot:>"
      ]
     },
     "execution_count": 11,
     "metadata": {},
     "output_type": "execute_result"
    },
    {
     "data": {
      "image/png": "[encoded data removed]",
      "text/plain": [
       "<Figure size 640x480 with 1 Axes>"
      ]
     },
     "metadata": {},
     "output_type": "display_data"
    }
   ],
   "source": [
    "# Check out the losses\n",
    "losses = pd.DataFrame(model.history.history)\n",
    "losses.plot()"
   ]
  },
  {
   "cell_type": "markdown",
   "id": "21e75076",
   "metadata": {
    "papermill": {
     "duration": 0.036675,
     "end_time": "2023-02-20T16:10:23.775450",
     "exception": false,
     "start_time": "2023-02-20T16:10:23.738775",
     "status": "completed"
    },
    "tags": []
   },
   "source": [
    "From this, there is a little overfitting, so adding a callback would help"
   ]
  },
  {
   "cell_type": "code",
   "execution_count": 12,
   "id": "900f7c67",
   "metadata": {
    "execution": {
     "iopub.execute_input": "2023-02-20T16:10:23.851286Z",
     "iopub.status.busy": "2023-02-20T16:10:23.850910Z",
     "iopub.status.idle": "2023-02-20T16:10:24.058741Z",
     "shell.execute_reply": "2023-02-20T16:10:24.057510Z"
    },
    "papermill": {
     "duration": 0.248748,
     "end_time": "2023-02-20T16:10:24.060987",
     "exception": false,
     "start_time": "2023-02-20T16:10:23.812239",
     "status": "completed"
    },
    "tags": []
   },
   "outputs": [
    {
     "name": "stdout",
     "output_type": "stream",
     "text": [
      "1/1 [==============================] - 0s 160ms/step\n"
     ]
    },
    {
     "data": {
      "text/plain": [
       "array([[0.51175964]], dtype=float32)"
      ]
     },
     "execution_count": 12,
     "metadata": {},
     "output_type": "execute_result"
    }
   ],
   "source": [
    "# Evaluate on test data\n",
    "\n",
    "# Get the scaled training data. Remove the last length values so we can evaluate it\n",
    "first_eval_batch = scaled_shortened_train[-length:]\n",
    "\n",
    "# Reshape it to the shape that teh model expects\n",
    "first_eval_batch = first_eval_batch.reshape((1, length, n_features))\n",
    "\n",
    "# Predict\n",
    "model.predict(first_eval_batch)"
   ]
  },
  {
   "cell_type": "code",
   "execution_count": 13,
   "id": "fea21c99",
   "metadata": {
    "execution": {
     "iopub.execute_input": "2023-02-20T16:10:24.137942Z",
     "iopub.status.busy": "2023-02-20T16:10:24.137564Z",
     "iopub.status.idle": "2023-02-20T16:10:26.609753Z",
     "shell.execute_reply": "2023-02-20T16:10:26.608191Z"
    },
    "papermill": {
     "duration": 2.512992,
     "end_time": "2023-02-20T16:10:26.612161",
     "exception": false,
     "start_time": "2023-02-20T16:10:24.099169",
     "status": "completed"
    },
    "tags": []
   },
   "outputs": [
    {
     "name": "stdout",
     "output_type": "stream",
     "text": [
      "1/1 [==============================] - 0s 21ms/step\n",
      "1/1 [==============================] - 0s 19ms/step\n",
      "1/1 [==============================] - 0s 19ms/step\n",
      "1/1 [==============================] - 0s 19ms/step\n",
      "1/1 [==============================] - 0s 18ms/step\n",
      "1/1 [==============================] - 0s 18ms/step\n",
      "1/1 [==============================] - 0s 17ms/step\n",
      "1/1 [==============================] - 0s 19ms/step\n",
      "1/1 [==============================] - 0s 18ms/step\n",
      "1/1 [==============================] - 0s 20ms/step\n",
      "1/1 [==============================] - 0s 19ms/step\n",
      "1/1 [==============================] - 0s 19ms/step\n",
      "1/1 [==============================] - 0s 18ms/step\n",
      "1/1 [==============================] - 0s 20ms/step\n",
      "1/1 [==============================] - 0s 19ms/step\n",
      "1/1 [==============================] - 0s 19ms/step\n",
      "1/1 [==============================] - 0s 18ms/step\n",
      "1/1 [==============================] - 0s 19ms/step\n",
      "1/1 [==============================] - 0s 18ms/step\n",
      "1/1 [==============================] - 0s 19ms/step\n",
      "1/1 [==============================] - 0s 17ms/step\n",
      "1/1 [==============================] - 0s 18ms/step\n",
      "1/1 [==============================] - 0s 20ms/step\n",
      "1/1 [==============================] - 0s 19ms/step\n",
      "1/1 [==============================] - 0s 18ms/step\n",
      "1/1 [==============================] - 0s 18ms/step\n",
      "1/1 [==============================] - 0s 19ms/step\n",
      "1/1 [==============================] - 0s 16ms/step\n",
      "1/1 [==============================] - 0s 17ms/step\n",
      "1/1 [==============================] - 0s 19ms/step\n",
      "1/1 [==============================] - 0s 18ms/step\n",
      "1/1 [==============================] - 0s 19ms/step\n",
      "1/1 [==============================] - 0s 18ms/step\n",
      "1/1 [==============================] - 0s 17ms/step\n",
      "1/1 [==============================] - 0s 21ms/step\n",
      "1/1 [==============================] - 0s 18ms/step\n",
      "1/1 [==============================] - 0s 19ms/step\n",
      "1/1 [==============================] - 0s 17ms/step\n",
      "1/1 [==============================] - 0s 18ms/step\n",
      "1/1 [==============================] - 0s 18ms/step\n",
      "1/1 [==============================] - 0s 21ms/step\n",
      "1/1 [==============================] - 0s 18ms/step\n",
      "1/1 [==============================] - 0s 18ms/step\n",
      "1/1 [==============================] - 0s 18ms/step\n",
      "1/1 [==============================] - 0s 18ms/step\n",
      "1/1 [==============================] - 0s 18ms/step\n",
      "1/1 [==============================] - 0s 19ms/step\n",
      "1/1 [==============================] - 0s 18ms/step\n",
      "1/1 [==============================] - 0s 17ms/step\n",
      "1/1 [==============================] - 0s 17ms/step\n"
     ]
    }
   ],
   "source": [
    "# Initialise values\n",
    "test_predictions = []\n",
    "first_eval_batch = scaled_shortened_train[-length:]\n",
    "current_batch = first_eval_batch.reshape((1, length, n_features))\n",
    "\n",
    "# Make a for look the keeps appending the predictions\n",
    "# predict value, add to array, move the historical values array by one place\n",
    "for i in range(len(test_shortened)) :\n",
    "    # Get the current predictions\n",
    "    current_pred = model.predict(current_batch)[0]\n",
    "    # Append it to the list\n",
    "    test_predictions.append(current_pred)\n",
    "    # Move the current batch along by one timestamp, and add current pred at the end\n",
    "    current_batch = np.append(current_batch[:,1:,:], [[current_pred]], axis=1)"
   ]
  },
  {
   "cell_type": "code",
   "execution_count": 14,
   "id": "0dcabe6c",
   "metadata": {
    "execution": {
     "iopub.execute_input": "2023-02-20T16:10:26.699760Z",
     "iopub.status.busy": "2023-02-20T16:10:26.699353Z",
     "iopub.status.idle": "2023-02-20T16:10:26.946138Z",
     "shell.execute_reply": "2023-02-20T16:10:26.944925Z"
    },
    "papermill": {
     "duration": 0.293416,
     "end_time": "2023-02-20T16:10:26.948258",
     "exception": false,
     "start_time": "2023-02-20T16:10:26.654842",
     "status": "completed"
    },
    "tags": []
   },
   "outputs": [
    {
     "name": "stderr",
     "output_type": "stream",
     "text": [
      "/opt/conda/lib/python3.7/site-packages/ipykernel_launcher.py:4: SettingWithCopyWarning: \n",
      "A value is trying to be set on a copy of a slice from a DataFrame.\n",
      "Try using .loc[row_indexer,col_indexer] = value instead\n",
      "\n",
      "See the caveats in the documentation: https://pandas.pydata.org/pandas-docs/stable/user_guide/indexing.html#returning-a-view-versus-a-copy\n",
      "  after removing the cwd from sys.path.\n"
     ]
    },
    {
     "data": {
      "text/plain": [
       "<AxesSubplot:>"
      ]
     },
     "execution_count": 14,
     "metadata": {},
     "output_type": "execute_result"
    },
    {
     "data": {
      "image/png": "[encoded data removed]",
      "text/plain": [
       "<Figure size 1200x800 with 1 Axes>"
      ]
     },
     "metadata": {},
     "output_type": "display_data"
    }
   ],
   "source": [
    "# Inverse transformation of predictions\n",
    "true_predictions = scaler.inverse_transform(test_predictions)\n",
    "# Add the test predictions to the test df\n",
    "test_shortened[\"Predictions\"] = true_predictions\n",
    "\n",
    "# Plot the predictions along with the true values\n",
    "test_shortened.plot(figsize=(12,8))"
   ]
  },
  {
   "cell_type": "markdown",
   "id": "1008de1d",
   "metadata": {
    "papermill": {
     "duration": 0.045027,
     "end_time": "2023-02-20T16:10:27.036975",
     "exception": false,
     "start_time": "2023-02-20T16:10:26.991948",
     "status": "completed"
    },
    "tags": []
   },
   "source": [
    "The initial attempt was horrible. It didn't even follow the broad trend. I increased the length and batch size, and it was a bit better. Now I need to:\n",
    "* Increase training set size\n",
    "* Incorporate call backs\n",
    "* Implement LTSM instead of SimpleRNN"
   ]
  }
 ],
 "metadata": {
  "kernelspec": {
   "display_name": "Python 3",
   "language": "python",
   "name": "python3"
  },
  "language_info": {
   "codemirror_mode": {
    "name": "ipython",
    "version": 3
   },
   "file_extension": ".py",
   "mimetype": "text/x-python",
   "name": "python",
   "nbconvert_exporter": "python",
   "pygments_lexer": "ipython3",
   "version": "3.7.12"
  },
  "papermill": {
   "default_parameters": {},
   "duration": 74.063165,
   "end_time": "2023-02-20T16:10:30.158107",
   "environment_variables": {},
   "exception": null,
   "input_path": "__notebook__.ipynb",
   "output_path": "__notebook__.ipynb",
   "parameters": {},
   "start_time": "2023-02-20T16:09:16.094942",
   "version": "2.3.4"
  }
 },
 "nbformat": 4,
 "nbformat_minor": 5
}

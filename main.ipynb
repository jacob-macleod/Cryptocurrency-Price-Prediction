{
  "cells": [
    {
      "cell_type": "code",
      "execution_count": null,
      "metadata": {
        "id": "qLIYTx3aZ01m"
      },
      "outputs": [],
      "source": [
        "# Import some libraries\n",
        "import pandas as pd\n",
        "import numpy as np\n",
        "%matplotlib inline\n",
        "import matplotlib.pyplot as plt"
      ]
    },
    {
      "cell_type": "code",
      "execution_count": null,
      "metadata": {
        "id": "Z_RDArXLZ01q",
        "outputId": "2af6deca-e625-42eb-ec55-6c2e5baec1ca"
      },
      "outputs": [
        {
          "data": {
            "text/html": [
              "<div>\n",
              "<style scoped>\n",
              "    .dataframe tbody tr th:only-of-type {\n",
              "        vertical-align: middle;\n",
              "    }\n",
              "\n",
              "    .dataframe tbody tr th {\n",
              "        vertical-align: top;\n",
              "    }\n",
              "\n",
              "    .dataframe thead th {\n",
              "        text-align: right;\n",
              "    }\n",
              "</style>\n",
              "<table border=\"1\" class=\"dataframe\">\n",
              "  <thead>\n",
              "    <tr style=\"text-align: right;\">\n",
              "      <th></th>\n",
              "      <th>timestamp</th>\n",
              "      <th>open</th>\n",
              "      <th>high</th>\n",
              "      <th>low</th>\n",
              "      <th>close</th>\n",
              "      <th>volume</th>\n",
              "    </tr>\n",
              "  </thead>\n",
              "  <tbody>\n",
              "    <tr>\n",
              "      <th>0</th>\n",
              "      <td>2018-01-01 00:01:00</td>\n",
              "      <td>13707.91</td>\n",
              "      <td>13707.91</td>\n",
              "      <td>13666.11</td>\n",
              "      <td>13694.92</td>\n",
              "      <td>2.113</td>\n",
              "    </tr>\n",
              "    <tr>\n",
              "      <th>1</th>\n",
              "      <td>2018-01-01 00:02:00</td>\n",
              "      <td>13682.00</td>\n",
              "      <td>13694.94</td>\n",
              "      <td>13680.00</td>\n",
              "      <td>13680.00</td>\n",
              "      <td>1.347</td>\n",
              "    </tr>\n",
              "    <tr>\n",
              "      <th>2</th>\n",
              "      <td>2018-01-01 00:03:00</td>\n",
              "      <td>13679.98</td>\n",
              "      <td>13679.98</td>\n",
              "      <td>13601.00</td>\n",
              "      <td>13645.99</td>\n",
              "      <td>11.586</td>\n",
              "    </tr>\n",
              "    <tr>\n",
              "      <th>3</th>\n",
              "      <td>2018-01-01 00:04:00</td>\n",
              "      <td>13645.98</td>\n",
              "      <td>13646.00</td>\n",
              "      <td>13576.28</td>\n",
              "      <td>13600.00</td>\n",
              "      <td>15.730</td>\n",
              "    </tr>\n",
              "    <tr>\n",
              "      <th>4</th>\n",
              "      <td>2018-01-01 00:05:00</td>\n",
              "      <td>13600.00</td>\n",
              "      <td>13600.00</td>\n",
              "      <td>13554.44</td>\n",
              "      <td>13568.00</td>\n",
              "      <td>6.395</td>\n",
              "    </tr>\n",
              "  </tbody>\n",
              "</table>\n",
              "</div>"
            ],
            "text/plain": [
              "             timestamp      open      high       low     close  volume\n",
              "0  2018-01-01 00:01:00  13707.91  13707.91  13666.11  13694.92   2.113\n",
              "1  2018-01-01 00:02:00  13682.00  13694.94  13680.00  13680.00   1.347\n",
              "2  2018-01-01 00:03:00  13679.98  13679.98  13601.00  13645.99  11.586\n",
              "3  2018-01-01 00:04:00  13645.98  13646.00  13576.28  13600.00  15.730\n",
              "4  2018-01-01 00:05:00  13600.00  13600.00  13554.44  13568.00   6.395"
            ]
          },
          "execution_count": 3,
          "metadata": {},
          "output_type": "execute_result"
        }
      ],
      "source": [
        "# Import the dataset\n",
        "df = pd.read_csv(\"Bitcoin_BTCUSDT.csv\")\n",
        "df.head()"
      ]
    },
    {
      "cell_type": "code",
      "execution_count": null,
      "metadata": {
        "id": "ufEromwXZ01r"
      },
      "outputs": [],
      "source": [
        "## Create a subset of the data\n",
        "Create a subset of the data, which will be used to train the model multiple times to find the correct parameters\n",
        "\n",
        "A size of 1000 has been chosen to hopefully show as much data as needed to make an initial prediction while keeping the sample size small, allowing it to be trained may times"
      ]
    },
    {
      "cell_type": "code",
      "execution_count": null,
      "metadata": {
        "id": "cJJXm8JFZ01s",
        "outputId": "4ffb7e89-d3fb-4c5c-f603-3376e7528aee"
      },
      "outputs": [
        {
          "name": "stdout",
          "output_type": "stream",
          "text": [
            "1000\n"
          ]
        },
        {
          "data": {
            "text/html": [
              "<div>\n",
              "<style scoped>\n",
              "    .dataframe tbody tr th:only-of-type {\n",
              "        vertical-align: middle;\n",
              "    }\n",
              "\n",
              "    .dataframe tbody tr th {\n",
              "        vertical-align: top;\n",
              "    }\n",
              "\n",
              "    .dataframe thead th {\n",
              "        text-align: right;\n",
              "    }\n",
              "</style>\n",
              "<table border=\"1\" class=\"dataframe\">\n",
              "  <thead>\n",
              "    <tr style=\"text-align: right;\">\n",
              "      <th></th>\n",
              "      <th>y</th>\n",
              "    </tr>\n",
              "  </thead>\n",
              "  <tbody>\n",
              "    <tr>\n",
              "      <th>0</th>\n",
              "      <td>13707.91</td>\n",
              "    </tr>\n",
              "    <tr>\n",
              "      <th>1</th>\n",
              "      <td>13682.00</td>\n",
              "    </tr>\n",
              "    <tr>\n",
              "      <th>2</th>\n",
              "      <td>13679.98</td>\n",
              "    </tr>\n",
              "    <tr>\n",
              "      <th>3</th>\n",
              "      <td>13645.98</td>\n",
              "    </tr>\n",
              "    <tr>\n",
              "      <th>4</th>\n",
              "      <td>13600.00</td>\n",
              "    </tr>\n",
              "  </tbody>\n",
              "</table>\n",
              "</div>"
            ],
            "text/plain": [
              "          y\n",
              "0  13707.91\n",
              "1  13682.00\n",
              "2  13679.98\n",
              "3  13645.98\n",
              "4  13600.00"
            ]
          },
          "execution_count": 9,
          "metadata": {},
          "output_type": "execute_result"
        }
      ],
      "source": [
        "# Generate y values - the thing we're trying to predict\n",
        "y = df[\"open\"].iloc[:1000]\n",
        "\n",
        "# Generate x values. Make these numbers from 0 to len(y)\n",
        "#x = []\n",
        "#for i in range(0, len(y)):\n",
        "    #x.append(str(i))\n",
        "\n",
        "# Create our dataframe\n",
        "data_shortened = pd.DataFrame()\n",
        "print (len(y))\n",
        "#print (len(x))\n",
        "#data_shortened[\"x\"] = x\n",
        "data_shortened[\"y\"] = y\n",
        "data_shortened.head()"
      ]
    },
    {
      "cell_type": "code",
      "execution_count": null,
      "metadata": {
        "id": "9N26f1tKZ01t",
        "outputId": "0cf81f22-1133-45a4-820c-cdc190da784c"
      },
      "outputs": [
        {
          "data": {
            "text/plain": [
              "<AxesSubplot:>"
            ]
          },
          "execution_count": 10,
          "metadata": {},
          "output_type": "execute_result"
        },
        {
          "data": {
            "image/png": "[encoded data removed]",
            "text/plain": [
              "<Figure size 432x288 with 1 Axes>"
            ]
          },
          "metadata": {
            "needs_background": "light"
          },
          "output_type": "display_data"
        }
      ],
      "source": [
        "data_shortened.plot()"
      ]
    },
    {
      "cell_type": "code",
      "execution_count": null,
      "metadata": {
        "id": "Z2Z-r4CWZ01t"
      },
      "outputs": [],
      "source": [
        "# Now we can train the model"
      ]
    }
  ],
  "metadata": {
    "kernelspec": {
      "display_name": "Python 3",
      "language": "python",
      "name": "python3"
    },
    "language_info": {
      "codemirror_mode": {
        "name": "ipython",
        "version": 3
      },
      "file_extension": ".py",
      "mimetype": "text/x-python",
      "name": "python",
      "nbconvert_exporter": "python",
      "pygments_lexer": "ipython3",
      "version": "3.8.5"
    },
    "colab": {
      "provenance": []
    }
  },
  "nbformat": 4,
  "nbformat_minor": 0
}
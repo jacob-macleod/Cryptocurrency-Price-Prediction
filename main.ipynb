{
 "cells": [
  {
   "cell_type": "code",
   "execution_count": 1,
   "id": "cb7d5c90",
   "metadata": {
    "execution": {
     "iopub.execute_input": "2023-02-20T15:34:06.525293Z",
     "iopub.status.busy": "2023-02-20T15:34:06.524434Z",
     "iopub.status.idle": "2023-02-20T15:34:06.538575Z",
     "shell.execute_reply": "2023-02-20T15:34:06.537703Z"
    },
    "id": "qLIYTx3aZ01m",
    "papermill": {
     "duration": 0.022667,
     "end_time": "2023-02-20T15:34:06.541149",
     "exception": false,
     "start_time": "2023-02-20T15:34:06.518482",
     "status": "completed"
    },
    "tags": []
   },
   "outputs": [],
   "source": [
    "# Import some libraries\n",
    "import pandas as pd\n",
    "import numpy as np\n",
    "%matplotlib inline\n",
    "import matplotlib.pyplot as plt"
   ]
  },
  {
   "cell_type": "code",
   "execution_count": 2,
   "id": "b1e6f7be",
   "metadata": {
    "execution": {
     "iopub.execute_input": "2023-02-20T15:34:06.548556Z",
     "iopub.status.busy": "2023-02-20T15:34:06.547762Z",
     "iopub.status.idle": "2023-02-20T15:34:11.873189Z",
     "shell.execute_reply": "2023-02-20T15:34:11.871772Z"
    },
    "id": "Z_RDArXLZ01q",
    "outputId": "2af6deca-e625-42eb-ec55-6c2e5baec1ca",
    "papermill": {
     "duration": 5.332136,
     "end_time": "2023-02-20T15:34:11.876138",
     "exception": false,
     "start_time": "2023-02-20T15:34:06.544002",
     "status": "completed"
    },
    "tags": []
   },
   "outputs": [
    {
     "data": {
      "text/html": [
       "<div>\n",
       "<style scoped>\n",
       "    .dataframe tbody tr th:only-of-type {\n",
       "        vertical-align: middle;\n",
       "    }\n",
       "\n",
       "    .dataframe tbody tr th {\n",
       "        vertical-align: top;\n",
       "    }\n",
       "\n",
       "    .dataframe thead th {\n",
       "        text-align: right;\n",
       "    }\n",
       "</style>\n",
       "<table border=\"1\" class=\"dataframe\">\n",
       "  <thead>\n",
       "    <tr style=\"text-align: right;\">\n",
       "      <th></th>\n",
       "      <th>timestamp</th>\n",
       "      <th>open</th>\n",
       "      <th>high</th>\n",
       "      <th>low</th>\n",
       "      <th>close</th>\n",
       "      <th>volume</th>\n",
       "    </tr>\n",
       "  </thead>\n",
       "  <tbody>\n",
       "    <tr>\n",
       "      <th>0</th>\n",
       "      <td>2018-01-01 00:01:00</td>\n",
       "      <td>13707.91</td>\n",
       "      <td>13707.91</td>\n",
       "      <td>13666.11</td>\n",
       "      <td>13694.92</td>\n",
       "      <td>2.113</td>\n",
       "    </tr>\n",
       "    <tr>\n",
       "      <th>1</th>\n",
       "      <td>2018-01-01 00:02:00</td>\n",
       "      <td>13682.00</td>\n",
       "      <td>13694.94</td>\n",
       "      <td>13680.00</td>\n",
       "      <td>13680.00</td>\n",
       "      <td>1.347</td>\n",
       "    </tr>\n",
       "    <tr>\n",
       "      <th>2</th>\n",
       "      <td>2018-01-01 00:03:00</td>\n",
       "      <td>13679.98</td>\n",
       "      <td>13679.98</td>\n",
       "      <td>13601.00</td>\n",
       "      <td>13645.99</td>\n",
       "      <td>11.586</td>\n",
       "    </tr>\n",
       "    <tr>\n",
       "      <th>3</th>\n",
       "      <td>2018-01-01 00:04:00</td>\n",
       "      <td>13645.98</td>\n",
       "      <td>13646.00</td>\n",
       "      <td>13576.28</td>\n",
       "      <td>13600.00</td>\n",
       "      <td>15.730</td>\n",
       "    </tr>\n",
       "    <tr>\n",
       "      <th>4</th>\n",
       "      <td>2018-01-01 00:05:00</td>\n",
       "      <td>13600.00</td>\n",
       "      <td>13600.00</td>\n",
       "      <td>13554.44</td>\n",
       "      <td>13568.00</td>\n",
       "      <td>6.395</td>\n",
       "    </tr>\n",
       "  </tbody>\n",
       "</table>\n",
       "</div>"
      ],
      "text/plain": [
       "             timestamp      open      high       low     close  volume\n",
       "0  2018-01-01 00:01:00  13707.91  13707.91  13666.11  13694.92   2.113\n",
       "1  2018-01-01 00:02:00  13682.00  13694.94  13680.00  13680.00   1.347\n",
       "2  2018-01-01 00:03:00  13679.98  13679.98  13601.00  13645.99  11.586\n",
       "3  2018-01-01 00:04:00  13645.98  13646.00  13576.28  13600.00  15.730\n",
       "4  2018-01-01 00:05:00  13600.00  13600.00  13554.44  13568.00   6.395"
      ]
     },
     "execution_count": 2,
     "metadata": {},
     "output_type": "execute_result"
    }
   ],
   "source": [
    "# Import the dataset\n",
    "# For a local installation where the file is in the same folder as this file\n",
    "#df = pd.read_csv(\"Bitcoin_BTCUSDT.csv\")\n",
    "# For kaggle, if the dataset (which wasn't made by me) is added\n",
    "df = pd.read_csv(\"/kaggle/input/bitcoin-btcusdt/Bitcoin_BTCUSDT.csv\")\n",
    "df.head()"
   ]
  },
  {
   "cell_type": "markdown",
   "id": "d6152f24",
   "metadata": {
    "papermill": {
     "duration": 0.002503,
     "end_time": "2023-02-20T15:34:11.881807",
     "exception": false,
     "start_time": "2023-02-20T15:34:11.879304",
     "status": "completed"
    },
    "tags": []
   },
   "source": [
    "## Create a subset of the data\n",
    "Create a subset of the data, which will be used to train the model multiple times to find the correct parameters\n",
    "\n",
    "A size of 1000 has been chosen to hopefully show as much data as needed to make an initial prediction while keeping the sample size small, allowing it to be trained may times"
   ]
  },
  {
   "cell_type": "code",
   "execution_count": 3,
   "id": "7fed3480",
   "metadata": {
    "execution": {
     "iopub.execute_input": "2023-02-20T15:34:11.889142Z",
     "iopub.status.busy": "2023-02-20T15:34:11.888730Z",
     "iopub.status.idle": "2023-02-20T15:34:11.911585Z",
     "shell.execute_reply": "2023-02-20T15:34:11.910236Z"
    },
    "id": "cJJXm8JFZ01s",
    "outputId": "4ffb7e89-d3fb-4c5c-f603-3376e7528aee",
    "papermill": {
     "duration": 0.029755,
     "end_time": "2023-02-20T15:34:11.914290",
     "exception": false,
     "start_time": "2023-02-20T15:34:11.884535",
     "status": "completed"
    },
    "tags": []
   },
   "outputs": [
    {
     "name": "stdout",
     "output_type": "stream",
     "text": [
      "1000\n"
     ]
    },
    {
     "data": {
      "text/html": [
       "<div>\n",
       "<style scoped>\n",
       "    .dataframe tbody tr th:only-of-type {\n",
       "        vertical-align: middle;\n",
       "    }\n",
       "\n",
       "    .dataframe tbody tr th {\n",
       "        vertical-align: top;\n",
       "    }\n",
       "\n",
       "    .dataframe thead th {\n",
       "        text-align: right;\n",
       "    }\n",
       "</style>\n",
       "<table border=\"1\" class=\"dataframe\">\n",
       "  <thead>\n",
       "    <tr style=\"text-align: right;\">\n",
       "      <th></th>\n",
       "      <th>y</th>\n",
       "    </tr>\n",
       "  </thead>\n",
       "  <tbody>\n",
       "    <tr>\n",
       "      <th>0</th>\n",
       "      <td>13707.91</td>\n",
       "    </tr>\n",
       "    <tr>\n",
       "      <th>1</th>\n",
       "      <td>13682.00</td>\n",
       "    </tr>\n",
       "    <tr>\n",
       "      <th>2</th>\n",
       "      <td>13679.98</td>\n",
       "    </tr>\n",
       "    <tr>\n",
       "      <th>3</th>\n",
       "      <td>13645.98</td>\n",
       "    </tr>\n",
       "    <tr>\n",
       "      <th>4</th>\n",
       "      <td>13600.00</td>\n",
       "    </tr>\n",
       "  </tbody>\n",
       "</table>\n",
       "</div>"
      ],
      "text/plain": [
       "          y\n",
       "0  13707.91\n",
       "1  13682.00\n",
       "2  13679.98\n",
       "3  13645.98\n",
       "4  13600.00"
      ]
     },
     "execution_count": 3,
     "metadata": {},
     "output_type": "execute_result"
    }
   ],
   "source": [
    "# Generate y values - the thing we're trying to predict\n",
    "y = df[\"open\"].iloc[:1000]\n",
    "\n",
    "# Generate x values. Make these numbers from 0 to len(y)\n",
    "#x = []\n",
    "#for i in range(0, len(y)):\n",
    "    #x.append(str(i))\n",
    "\n",
    "# Create our dataframe\n",
    "data_shortened = pd.DataFrame()\n",
    "print (len(y))\n",
    "#print (len(x))\n",
    "#data_shortened[\"x\"] = x\n",
    "data_shortened[\"y\"] = y\n",
    "data_shortened.head()"
   ]
  },
  {
   "cell_type": "code",
   "execution_count": 4,
   "id": "51cb9719",
   "metadata": {
    "execution": {
     "iopub.execute_input": "2023-02-20T15:34:11.925187Z",
     "iopub.status.busy": "2023-02-20T15:34:11.924769Z",
     "iopub.status.idle": "2023-02-20T15:34:12.239094Z",
     "shell.execute_reply": "2023-02-20T15:34:12.237930Z"
    },
    "id": "9N26f1tKZ01t",
    "outputId": "0cf81f22-1133-45a4-820c-cdc190da784c",
    "papermill": {
     "duration": 0.324131,
     "end_time": "2023-02-20T15:34:12.241743",
     "exception": false,
     "start_time": "2023-02-20T15:34:11.917612",
     "status": "completed"
    },
    "tags": []
   },
   "outputs": [
    {
     "data": {
      "text/plain": [
       "<AxesSubplot:>"
      ]
     },
     "execution_count": 4,
     "metadata": {},
     "output_type": "execute_result"
    },
    {
     "data": {
      "image/png": "[encoded data removed]",
      "text/plain": [
       "<Figure size 640x480 with 1 Axes>"
      ]
     },
     "metadata": {},
     "output_type": "display_data"
    }
   ],
   "source": [
    "data_shortened.plot()"
   ]
  },
  {
   "cell_type": "code",
   "execution_count": 5,
   "id": "29da1ae0",
   "metadata": {
    "execution": {
     "iopub.execute_input": "2023-02-20T15:34:12.251271Z",
     "iopub.status.busy": "2023-02-20T15:34:12.250811Z",
     "iopub.status.idle": "2023-02-20T15:34:12.255896Z",
     "shell.execute_reply": "2023-02-20T15:34:12.254671Z"
    },
    "id": "Z2Z-r4CWZ01t",
    "papermill": {
     "duration": 0.012492,
     "end_time": "2023-02-20T15:34:12.258146",
     "exception": false,
     "start_time": "2023-02-20T15:34:12.245654",
     "status": "completed"
    },
    "tags": []
   },
   "outputs": [],
   "source": [
    "# Now we can train the model"
   ]
  }
 ],
 "metadata": {
  "kernelspec": {
   "display_name": "Python 3",
   "language": "python",
   "name": "python3"
  },
  "language_info": {
   "codemirror_mode": {
    "name": "ipython",
    "version": 3
   },
   "file_extension": ".py",
   "mimetype": "text/x-python",
   "name": "python",
   "nbconvert_exporter": "python",
   "pygments_lexer": "ipython3",
   "version": "3.7.12"
  },
  "papermill": {
   "default_parameters": {},
   "duration": 15.641147,
   "end_time": "2023-02-20T15:34:12.985212",
   "environment_variables": {},
   "exception": null,
   "input_path": "__notebook__.ipynb",
   "output_path": "__notebook__.ipynb",
   "parameters": {},
   "start_time": "2023-02-20T15:33:57.344065",
   "version": "2.3.4"
  }
 },
 "nbformat": 4,
 "nbformat_minor": 5
}

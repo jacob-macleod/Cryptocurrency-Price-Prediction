{
 "cells": [
  {
   "cell_type": "code",
   "execution_count": 1,
   "id": "d29d608c",
   "metadata": {
    "execution": {
     "iopub.execute_input": "2023-02-21T20:13:27.775887Z",
     "iopub.status.busy": "2023-02-21T20:13:27.775201Z",
     "iopub.status.idle": "2023-02-21T20:13:27.796662Z",
     "shell.execute_reply": "2023-02-21T20:13:27.795511Z"
    },
    "id": "qLIYTx3aZ01m",
    "papermill": {
     "duration": 0.036162,
     "end_time": "2023-02-21T20:13:27.799886",
     "exception": false,
     "start_time": "2023-02-21T20:13:27.763724",
     "status": "completed"
    },
    "tags": []
   },
   "outputs": [],
   "source": [
    "# Import some libraries\n",
    "import pandas as pd\n",
    "import numpy as np\n",
    "%matplotlib inline\n",
    "import matplotlib.pyplot as plt"
   ]
  },
  {
   "cell_type": "code",
   "execution_count": 2,
   "id": "a78919cb",
   "metadata": {
    "execution": {
     "iopub.execute_input": "2023-02-21T20:13:27.813098Z",
     "iopub.status.busy": "2023-02-21T20:13:27.812684Z",
     "iopub.status.idle": "2023-02-21T20:13:32.920496Z",
     "shell.execute_reply": "2023-02-21T20:13:32.919266Z"
    },
    "id": "Z_RDArXLZ01q",
    "outputId": "2af6deca-e625-42eb-ec55-6c2e5baec1ca",
    "papermill": {
     "duration": 5.118712,
     "end_time": "2023-02-21T20:13:32.924360",
     "exception": false,
     "start_time": "2023-02-21T20:13:27.805648",
     "status": "completed"
    },
    "tags": []
   },
   "outputs": [
    {
     "data": {
      "text/html": [
       "<div>\n",
       "<style scoped>\n",
       "    .dataframe tbody tr th:only-of-type {\n",
       "        vertical-align: middle;\n",
       "    }\n",
       "\n",
       "    .dataframe tbody tr th {\n",
       "        vertical-align: top;\n",
       "    }\n",
       "\n",
       "    .dataframe thead th {\n",
       "        text-align: right;\n",
       "    }\n",
       "</style>\n",
       "<table border=\"1\" class=\"dataframe\">\n",
       "  <thead>\n",
       "    <tr style=\"text-align: right;\">\n",
       "      <th></th>\n",
       "      <th>timestamp</th>\n",
       "      <th>open</th>\n",
       "      <th>high</th>\n",
       "      <th>low</th>\n",
       "      <th>close</th>\n",
       "      <th>volume</th>\n",
       "    </tr>\n",
       "  </thead>\n",
       "  <tbody>\n",
       "    <tr>\n",
       "      <th>0</th>\n",
       "      <td>2018-01-01 00:01:00</td>\n",
       "      <td>13707.91</td>\n",
       "      <td>13707.91</td>\n",
       "      <td>13666.11</td>\n",
       "      <td>13694.92</td>\n",
       "      <td>2.113</td>\n",
       "    </tr>\n",
       "    <tr>\n",
       "      <th>1</th>\n",
       "      <td>2018-01-01 00:02:00</td>\n",
       "      <td>13682.00</td>\n",
       "      <td>13694.94</td>\n",
       "      <td>13680.00</td>\n",
       "      <td>13680.00</td>\n",
       "      <td>1.347</td>\n",
       "    </tr>\n",
       "    <tr>\n",
       "      <th>2</th>\n",
       "      <td>2018-01-01 00:03:00</td>\n",
       "      <td>13679.98</td>\n",
       "      <td>13679.98</td>\n",
       "      <td>13601.00</td>\n",
       "      <td>13645.99</td>\n",
       "      <td>11.586</td>\n",
       "    </tr>\n",
       "    <tr>\n",
       "      <th>3</th>\n",
       "      <td>2018-01-01 00:04:00</td>\n",
       "      <td>13645.98</td>\n",
       "      <td>13646.00</td>\n",
       "      <td>13576.28</td>\n",
       "      <td>13600.00</td>\n",
       "      <td>15.730</td>\n",
       "    </tr>\n",
       "    <tr>\n",
       "      <th>4</th>\n",
       "      <td>2018-01-01 00:05:00</td>\n",
       "      <td>13600.00</td>\n",
       "      <td>13600.00</td>\n",
       "      <td>13554.44</td>\n",
       "      <td>13568.00</td>\n",
       "      <td>6.395</td>\n",
       "    </tr>\n",
       "  </tbody>\n",
       "</table>\n",
       "</div>"
      ],
      "text/plain": [
       "             timestamp      open      high       low     close  volume\n",
       "0  2018-01-01 00:01:00  13707.91  13707.91  13666.11  13694.92   2.113\n",
       "1  2018-01-01 00:02:00  13682.00  13694.94  13680.00  13680.00   1.347\n",
       "2  2018-01-01 00:03:00  13679.98  13679.98  13601.00  13645.99  11.586\n",
       "3  2018-01-01 00:04:00  13645.98  13646.00  13576.28  13600.00  15.730\n",
       "4  2018-01-01 00:05:00  13600.00  13600.00  13554.44  13568.00   6.395"
      ]
     },
     "execution_count": 2,
     "metadata": {},
     "output_type": "execute_result"
    }
   ],
   "source": [
    "# Import the dataset\n",
    "# For a local installation where the file is in the same folder as this file\n",
    "#df = pd.read_csv(\"Bitcoin_BTCUSDT.csv\")\n",
    "# For kaggle, if the dataset (which wasn't made by me) is added\n",
    "df = pd.read_csv(\"/kaggle/input/bitcoin-btcusdt/Bitcoin_BTCUSDT.csv\")\n",
    "df.head()"
   ]
  },
  {
   "cell_type": "markdown",
   "id": "2426536c",
   "metadata": {
    "papermill": {
     "duration": 0.005802,
     "end_time": "2023-02-21T20:13:32.936862",
     "exception": false,
     "start_time": "2023-02-21T20:13:32.931060",
     "status": "completed"
    },
    "tags": []
   },
   "source": [
    "## Set up a subset of the model\n",
    "Create a subset of the data, which will be used to train the model multiple times to find the correct parameters\n",
    "\n",
    "A size of 1000 has been chosen to hopefully show as much data as needed to make an initial prediction while keeping the sample size small, allowing it to be trained may times"
   ]
  },
  {
   "cell_type": "code",
   "execution_count": 3,
   "id": "6a4d851d",
   "metadata": {
    "execution": {
     "iopub.execute_input": "2023-02-21T20:13:32.949854Z",
     "iopub.status.busy": "2023-02-21T20:13:32.949423Z",
     "iopub.status.idle": "2023-02-21T20:13:32.973270Z",
     "shell.execute_reply": "2023-02-21T20:13:32.971569Z"
    },
    "id": "cJJXm8JFZ01s",
    "outputId": "4ffb7e89-d3fb-4c5c-f603-3376e7528aee",
    "papermill": {
     "duration": 0.033325,
     "end_time": "2023-02-21T20:13:32.975743",
     "exception": false,
     "start_time": "2023-02-21T20:13:32.942418",
     "status": "completed"
    },
    "tags": []
   },
   "outputs": [
    {
     "name": "stdout",
     "output_type": "stream",
     "text": [
      "5000\n"
     ]
    },
    {
     "data": {
      "text/html": [
       "<div>\n",
       "<style scoped>\n",
       "    .dataframe tbody tr th:only-of-type {\n",
       "        vertical-align: middle;\n",
       "    }\n",
       "\n",
       "    .dataframe tbody tr th {\n",
       "        vertical-align: top;\n",
       "    }\n",
       "\n",
       "    .dataframe thead th {\n",
       "        text-align: right;\n",
       "    }\n",
       "</style>\n",
       "<table border=\"1\" class=\"dataframe\">\n",
       "  <thead>\n",
       "    <tr style=\"text-align: right;\">\n",
       "      <th></th>\n",
       "      <th>y</th>\n",
       "    </tr>\n",
       "  </thead>\n",
       "  <tbody>\n",
       "    <tr>\n",
       "      <th>0</th>\n",
       "      <td>13707.91</td>\n",
       "    </tr>\n",
       "    <tr>\n",
       "      <th>1</th>\n",
       "      <td>13682.00</td>\n",
       "    </tr>\n",
       "    <tr>\n",
       "      <th>2</th>\n",
       "      <td>13679.98</td>\n",
       "    </tr>\n",
       "    <tr>\n",
       "      <th>3</th>\n",
       "      <td>13645.98</td>\n",
       "    </tr>\n",
       "    <tr>\n",
       "      <th>4</th>\n",
       "      <td>13600.00</td>\n",
       "    </tr>\n",
       "  </tbody>\n",
       "</table>\n",
       "</div>"
      ],
      "text/plain": [
       "          y\n",
       "0  13707.91\n",
       "1  13682.00\n",
       "2  13679.98\n",
       "3  13645.98\n",
       "4  13600.00"
      ]
     },
     "execution_count": 3,
     "metadata": {},
     "output_type": "execute_result"
    }
   ],
   "source": [
    "# Generate y values - the thing we're trying to predict\n",
    "y = df[\"open\"].iloc[:5000]\n",
    "\n",
    "# Generate x values. Make these numbers from 0 to len(y)\n",
    "#x = []\n",
    "#for i in range(0, len(y)):\n",
    "    #x.append(str(i))\n",
    "\n",
    "# Create our dataframe\n",
    "data_shortened = pd.DataFrame()\n",
    "print (len(y))\n",
    "#print (len(x))\n",
    "#data_shortened[\"x\"] = x\n",
    "data_shortened[\"y\"] = y\n",
    "data_shortened.head()"
   ]
  },
  {
   "cell_type": "code",
   "execution_count": 4,
   "id": "94870315",
   "metadata": {
    "execution": {
     "iopub.execute_input": "2023-02-21T20:13:32.989669Z",
     "iopub.status.busy": "2023-02-21T20:13:32.988935Z",
     "iopub.status.idle": "2023-02-21T20:13:33.325675Z",
     "shell.execute_reply": "2023-02-21T20:13:33.324257Z"
    },
    "id": "9N26f1tKZ01t",
    "outputId": "0cf81f22-1133-45a4-820c-cdc190da784c",
    "papermill": {
     "duration": 0.346903,
     "end_time": "2023-02-21T20:13:33.328488",
     "exception": false,
     "start_time": "2023-02-21T20:13:32.981585",
     "status": "completed"
    },
    "tags": []
   },
   "outputs": [
    {
     "data": {
      "text/plain": [
       "<AxesSubplot:>"
      ]
     },
     "execution_count": 4,
     "metadata": {},
     "output_type": "execute_result"
    },
    {
     "data": {
      "image/png": "[encoded data removed]",
      "text/plain": [
       "<Figure size 640x480 with 1 Axes>"
      ]
     },
     "metadata": {},
     "output_type": "display_data"
    }
   ],
   "source": [
    "data_shortened.plot()"
   ]
  },
  {
   "cell_type": "code",
   "execution_count": 5,
   "id": "2b9d075d",
   "metadata": {
    "execution": {
     "iopub.execute_input": "2023-02-21T20:13:33.344160Z",
     "iopub.status.busy": "2023-02-21T20:13:33.343728Z",
     "iopub.status.idle": "2023-02-21T20:13:33.350726Z",
     "shell.execute_reply": "2023-02-21T20:13:33.349236Z"
    },
    "id": "Z2Z-r4CWZ01t",
    "papermill": {
     "duration": 0.01809,
     "end_time": "2023-02-21T20:13:33.353366",
     "exception": false,
     "start_time": "2023-02-21T20:13:33.335276",
     "status": "completed"
    },
    "tags": []
   },
   "outputs": [],
   "source": [
    "# Now we can do a test/train split\n",
    "\n",
    "# Let's say 5% of the data is the test set\n",
    "test_percent = 0.05\n",
    "\n",
    "# Get the number of entries we want from the data_shortened dataset\n",
    "test_point = np.round(len(data_shortened) * test_percent)\n",
    "\n",
    "# Find the point to split off at\n",
    "test_ind = int(len(data_shortened)-test_point)\n",
    "\n",
    "# Define the test and train datasets\n",
    "train_shortened = data_shortened.iloc[:test_ind]\n",
    "test_shortened = data_shortened.iloc[test_ind:]"
   ]
  },
  {
   "cell_type": "code",
   "execution_count": 6,
   "id": "6da54915",
   "metadata": {
    "execution": {
     "iopub.execute_input": "2023-02-21T20:13:33.368584Z",
     "iopub.status.busy": "2023-02-21T20:13:33.368117Z",
     "iopub.status.idle": "2023-02-21T20:13:34.655027Z",
     "shell.execute_reply": "2023-02-21T20:13:34.654047Z"
    },
    "papermill": {
     "duration": 1.297736,
     "end_time": "2023-02-21T20:13:34.657751",
     "exception": false,
     "start_time": "2023-02-21T20:13:33.360015",
     "status": "completed"
    },
    "tags": []
   },
   "outputs": [],
   "source": [
    "# Scale the data\n",
    "from sklearn.preprocessing import MinMaxScaler\n",
    "\n",
    "# Choose the scaler\n",
    "scaler = MinMaxScaler()\n",
    "\n",
    "# Scale the data\n",
    "scaler.fit(train_shortened)\n",
    "scaled_shortened_train = scaler.transform(train_shortened)\n",
    "scaled_shortened_test = scaler.transform(test_shortened)"
   ]
  },
  {
   "cell_type": "code",
   "execution_count": 7,
   "id": "2ddf2f92",
   "metadata": {
    "execution": {
     "iopub.execute_input": "2023-02-21T20:13:34.673249Z",
     "iopub.status.busy": "2023-02-21T20:13:34.672153Z",
     "iopub.status.idle": "2023-02-21T20:13:43.703322Z",
     "shell.execute_reply": "2023-02-21T20:13:43.702247Z"
    },
    "papermill": {
     "duration": 9.041902,
     "end_time": "2023-02-21T20:13:43.706121",
     "exception": false,
     "start_time": "2023-02-21T20:13:34.664219",
     "status": "completed"
    },
    "tags": []
   },
   "outputs": [],
   "source": [
    "# Create batches for training\n",
    "from tensorflow.keras.preprocessing.sequence import TimeseriesGenerator\n",
    "\n",
    "# Define characteristics\n",
    "length = 99\n",
    "batch_size = 4\n",
    "\n",
    "# Create generator\n",
    "generator = TimeseriesGenerator(scaled_shortened_train, scaled_shortened_train, length=length, batch_size=batch_size)\n",
    "# Create validation generator\n",
    "validation_generator = TimeseriesGenerator(scaled_shortened_test, scaled_shortened_test, length=length, batch_size=batch_size)"
   ]
  },
  {
   "cell_type": "markdown",
   "id": "6f12ffa2",
   "metadata": {
    "papermill": {
     "duration": 0.006253,
     "end_time": "2023-02-21T20:13:43.719129",
     "exception": false,
     "start_time": "2023-02-21T20:13:43.712876",
     "status": "completed"
    },
    "tags": []
   },
   "source": [
    "## Train the initial model\n",
    "\n",
    "Next, we need to create and train the initial shortened model"
   ]
  },
  {
   "cell_type": "code",
   "execution_count": 8,
   "id": "acfcdc64",
   "metadata": {
    "execution": {
     "iopub.execute_input": "2023-02-21T20:13:43.734758Z",
     "iopub.status.busy": "2023-02-21T20:13:43.733750Z",
     "iopub.status.idle": "2023-02-21T20:13:44.247686Z",
     "shell.execute_reply": "2023-02-21T20:13:44.246405Z"
    },
    "papermill": {
     "duration": 0.524894,
     "end_time": "2023-02-21T20:13:44.250553",
     "exception": false,
     "start_time": "2023-02-21T20:13:43.725659",
     "status": "completed"
    },
    "tags": []
   },
   "outputs": [
    {
     "name": "stderr",
     "output_type": "stream",
     "text": [
      "2023-02-21 20:13:43.762589: W tensorflow/stream_executor/platform/default/dso_loader.cc:64] Could not load dynamic library 'libcuda.so.1'; dlerror: libcuda.so.1: cannot open shared object file: No such file or directory; LD_LIBRARY_PATH: /usr/local/cuda/lib64:/usr/local/cuda/lib:/usr/local/lib/x86_64-linux-gnu:/usr/local/nvidia/lib:/usr/local/nvidia/lib64::/opt/conda/lib\n",
      "2023-02-21 20:13:43.762640: W tensorflow/stream_executor/cuda/cuda_driver.cc:269] failed call to cuInit: UNKNOWN ERROR (303)\n"
     ]
    }
   ],
   "source": [
    "# Create the model\n",
    "from tensorflow.keras.models import Sequential\n",
    "from tensorflow.keras.layers import Dense,SimpleRNN,LSTM\n",
    "\n",
    "# Model feature\n",
    "n_features = 1\n",
    "\n",
    "# Define model\n",
    "model = Sequential()\n",
    "model.add(LSTM(50, input_shape=(length, n_features)))\n",
    "# Output size and type\n",
    "model.add(Dense(1))\n",
    "\n",
    "# Compile\n",
    "model.compile(optimizer=\"adam\", loss=\"mse\")"
   ]
  },
  {
   "cell_type": "code",
   "execution_count": 9,
   "id": "35063aaa",
   "metadata": {
    "execution": {
     "iopub.execute_input": "2023-02-21T20:13:44.265458Z",
     "iopub.status.busy": "2023-02-21T20:13:44.264989Z",
     "iopub.status.idle": "2023-02-21T20:13:44.286667Z",
     "shell.execute_reply": "2023-02-21T20:13:44.285420Z"
    },
    "papermill": {
     "duration": 0.033938,
     "end_time": "2023-02-21T20:13:44.291093",
     "exception": false,
     "start_time": "2023-02-21T20:13:44.257155",
     "status": "completed"
    },
    "tags": []
   },
   "outputs": [
    {
     "name": "stdout",
     "output_type": "stream",
     "text": [
      "Model: \"sequential\"\n",
      "_________________________________________________________________\n",
      " Layer (type)                Output Shape              Param #   \n",
      "=================================================================\n",
      " lstm (LSTM)                 (None, 50)                10400     \n",
      "                                                                 \n",
      " dense (Dense)               (None, 1)                 51        \n",
      "                                                                 \n",
      "=================================================================\n",
      "Total params: 10,451\n",
      "Trainable params: 10,451\n",
      "Non-trainable params: 0\n",
      "_________________________________________________________________\n"
     ]
    }
   ],
   "source": [
    "# Check if the details are correct\n",
    "model.summary()"
   ]
  },
  {
   "cell_type": "code",
   "execution_count": 10,
   "id": "d7d7e1f7",
   "metadata": {
    "execution": {
     "iopub.execute_input": "2023-02-21T20:13:44.308483Z",
     "iopub.status.busy": "2023-02-21T20:13:44.308040Z",
     "iopub.status.idle": "2023-02-21T20:13:44.314292Z",
     "shell.execute_reply": "2023-02-21T20:13:44.313103Z"
    },
    "papermill": {
     "duration": 0.017916,
     "end_time": "2023-02-21T20:13:44.316884",
     "exception": false,
     "start_time": "2023-02-21T20:13:44.298968",
     "status": "completed"
    },
    "tags": []
   },
   "outputs": [],
   "source": [
    "# Setup callbacks\n",
    "from tensorflow.keras.callbacks import EarlyStopping\n",
    "\n",
    "early_stop = EarlyStopping(monitor=\"val_loss\", patience=2)"
   ]
  },
  {
   "cell_type": "code",
   "execution_count": 11,
   "id": "59e15ff5",
   "metadata": {
    "execution": {
     "iopub.execute_input": "2023-02-21T20:13:44.334197Z",
     "iopub.status.busy": "2023-02-21T20:13:44.333777Z",
     "iopub.status.idle": "2023-02-21T20:23:54.555408Z",
     "shell.execute_reply": "2023-02-21T20:23:54.553295Z"
    },
    "papermill": {
     "duration": 610.234575,
     "end_time": "2023-02-21T20:23:54.559124",
     "exception": false,
     "start_time": "2023-02-21T20:13:44.324549",
     "status": "completed"
    },
    "tags": []
   },
   "outputs": [
    {
     "name": "stdout",
     "output_type": "stream",
     "text": [
      "Epoch 1/20\n"
     ]
    },
    {
     "name": "stderr",
     "output_type": "stream",
     "text": [
      "/opt/conda/lib/python3.7/site-packages/ipykernel_launcher.py:2: UserWarning: `Model.fit_generator` is deprecated and will be removed in a future version. Please use `Model.fit`, which supports generators.\n",
      "  \n"
     ]
    },
    {
     "name": "stdout",
     "output_type": "stream",
     "text": [
      "1163/1163 [==============================] - 47s 38ms/step - loss: 0.0020 - val_loss: 3.8859e-04\n",
      "Epoch 2/20\n",
      "1163/1163 [==============================] - 45s 38ms/step - loss: 3.9854e-04 - val_loss: 9.5380e-04\n",
      "Epoch 3/20\n",
      "1163/1163 [==============================] - 45s 39ms/step - loss: 3.6919e-04 - val_loss: 2.5032e-04\n",
      "Epoch 4/20\n",
      "1163/1163 [==============================] - 45s 39ms/step - loss: 3.0083e-04 - val_loss: 2.4574e-04\n",
      "Epoch 5/20\n",
      "1163/1163 [==============================] - 45s 39ms/step - loss: 2.4106e-04 - val_loss: 2.0577e-04\n",
      "Epoch 6/20\n",
      "1163/1163 [==============================] - 46s 39ms/step - loss: 2.0272e-04 - val_loss: 1.7733e-04\n",
      "Epoch 7/20\n",
      "1163/1163 [==============================] - 46s 39ms/step - loss: 1.6598e-04 - val_loss: 1.5676e-04\n",
      "Epoch 8/20\n",
      "1163/1163 [==============================] - 45s 39ms/step - loss: 1.5172e-04 - val_loss: 1.8877e-04\n",
      "Epoch 9/20\n",
      "1163/1163 [==============================] - 46s 39ms/step - loss: 1.4743e-04 - val_loss: 1.2906e-04\n",
      "Epoch 10/20\n",
      "1163/1163 [==============================] - 45s 39ms/step - loss: 1.4035e-04 - val_loss: 1.4525e-04\n",
      "Epoch 11/20\n",
      "1163/1163 [==============================] - 46s 40ms/step - loss: 1.3767e-04 - val_loss: 2.8066e-04\n"
     ]
    },
    {
     "data": {
      "text/plain": [
       "<keras.callbacks.History at 0x7f9c6f315a50>"
      ]
     },
     "execution_count": 11,
     "metadata": {},
     "output_type": "execute_result"
    }
   ],
   "source": [
    "# Train the model\n",
    "model.fit_generator(generator, epochs=20, validation_data=validation_generator, callbacks=[early_stop])"
   ]
  },
  {
   "cell_type": "markdown",
   "id": "80992306",
   "metadata": {
    "papermill": {
     "duration": 0.481704,
     "end_time": "2023-02-21T20:23:55.450861",
     "exception": false,
     "start_time": "2023-02-21T20:23:54.969157",
     "status": "completed"
    },
    "tags": []
   },
   "source": [
    "## Evaluate the shortened model\n",
    "\n",
    "Now, I need to evaluate this shortened model and make any changes as required"
   ]
  },
  {
   "cell_type": "code",
   "execution_count": 12,
   "id": "483433ee",
   "metadata": {
    "execution": {
     "iopub.execute_input": "2023-02-21T20:23:56.279115Z",
     "iopub.status.busy": "2023-02-21T20:23:56.278723Z",
     "iopub.status.idle": "2023-02-21T20:23:56.553548Z",
     "shell.execute_reply": "2023-02-21T20:23:56.552532Z"
    },
    "papermill": {
     "duration": 0.689621,
     "end_time": "2023-02-21T20:23:56.556101",
     "exception": false,
     "start_time": "2023-02-21T20:23:55.866480",
     "status": "completed"
    },
    "tags": []
   },
   "outputs": [
    {
     "data": {
      "text/plain": [
       "<AxesSubplot:>"
      ]
     },
     "execution_count": 12,
     "metadata": {},
     "output_type": "execute_result"
    },
    {
     "data": {
      "image/png": "[encoded data removed]",
      "text/plain": [
       "<Figure size 640x480 with 1 Axes>"
      ]
     },
     "metadata": {},
     "output_type": "display_data"
    }
   ],
   "source": [
    "# Check out the losses\n",
    "losses = pd.DataFrame(model.history.history)\n",
    "losses.plot()"
   ]
  },
  {
   "cell_type": "markdown",
   "id": "6ec54d82",
   "metadata": {
    "papermill": {
     "duration": 0.428745,
     "end_time": "2023-02-21T20:23:57.394795",
     "exception": false,
     "start_time": "2023-02-21T20:23:56.966050",
     "status": "completed"
    },
    "tags": []
   },
   "source": [
    "From this, there is a little overfitting, so adding a callback would help"
   ]
  },
  {
   "cell_type": "code",
   "execution_count": 13,
   "id": "e874f482",
   "metadata": {
    "execution": {
     "iopub.execute_input": "2023-02-21T20:23:58.288135Z",
     "iopub.status.busy": "2023-02-21T20:23:58.287402Z",
     "iopub.status.idle": "2023-02-21T20:23:58.852234Z",
     "shell.execute_reply": "2023-02-21T20:23:58.850929Z"
    },
    "papermill": {
     "duration": 0.984233,
     "end_time": "2023-02-21T20:23:58.854902",
     "exception": false,
     "start_time": "2023-02-21T20:23:57.870669",
     "status": "completed"
    },
    "tags": []
   },
   "outputs": [
    {
     "name": "stdout",
     "output_type": "stream",
     "text": [
      "1/1 [==============================] - 1s 507ms/step\n"
     ]
    },
    {
     "data": {
      "text/plain": [
       "array([[0.79565024]], dtype=float32)"
      ]
     },
     "execution_count": 13,
     "metadata": {},
     "output_type": "execute_result"
    }
   ],
   "source": [
    "# Evaluate on test data\n",
    "\n",
    "# Get the scaled training data. Remove the last length values so we can evaluate it\n",
    "first_eval_batch = scaled_shortened_train[-length:]\n",
    "\n",
    "# Reshape it to the shape that teh model expects\n",
    "first_eval_batch = first_eval_batch.reshape((1, length, n_features))\n",
    "\n",
    "# Predict\n",
    "model.predict(first_eval_batch)"
   ]
  },
  {
   "cell_type": "code",
   "execution_count": 14,
   "id": "ad3d4b47",
   "metadata": {
    "execution": {
     "iopub.execute_input": "2023-02-21T20:23:59.745735Z",
     "iopub.status.busy": "2023-02-21T20:23:59.744948Z",
     "iopub.status.idle": "2023-02-21T20:24:15.055072Z",
     "shell.execute_reply": "2023-02-21T20:24:15.053688Z"
    },
    "papermill": {
     "duration": 15.78568,
     "end_time": "2023-02-21T20:24:15.057819",
     "exception": false,
     "start_time": "2023-02-21T20:23:59.272139",
     "status": "completed"
    },
    "tags": []
   },
   "outputs": [
    {
     "name": "stdout",
     "output_type": "stream",
     "text": [
      "1/1 [==============================] - 0s 24ms/step\n",
      "1/1 [==============================] - 0s 24ms/step\n",
      "1/1 [==============================] - 0s 25ms/step\n",
      "1/1 [==============================] - 0s 24ms/step\n",
      "1/1 [==============================] - 0s 23ms/step\n",
      "1/1 [==============================] - 0s 24ms/step\n",
      "1/1 [==============================] - 0s 26ms/step\n",
      "1/1 [==============================] - 0s 28ms/step\n",
      "1/1 [==============================] - 0s 25ms/step\n",
      "1/1 [==============================] - 0s 25ms/step\n",
      "1/1 [==============================] - 0s 24ms/step\n",
      "1/1 [==============================] - 0s 26ms/step\n",
      "1/1 [==============================] - 0s 23ms/step\n",
      "1/1 [==============================] - 0s 24ms/step\n",
      "1/1 [==============================] - 0s 25ms/step\n",
      "1/1 [==============================] - 0s 23ms/step\n",
      "1/1 [==============================] - 0s 23ms/step\n",
      "1/1 [==============================] - 0s 25ms/step\n",
      "1/1 [==============================] - 0s 24ms/step\n",
      "1/1 [==============================] - 0s 24ms/step\n",
      "1/1 [==============================] - 0s 23ms/step\n",
      "1/1 [==============================] - 0s 23ms/step\n",
      "1/1 [==============================] - 0s 23ms/step\n",
      "1/1 [==============================] - 0s 23ms/step\n",
      "1/1 [==============================] - 0s 26ms/step\n",
      "1/1 [==============================] - 0s 25ms/step\n",
      "1/1 [==============================] - 0s 23ms/step\n",
      "1/1 [==============================] - 0s 25ms/step\n",
      "1/1 [==============================] - 0s 22ms/step\n",
      "1/1 [==============================] - 0s 24ms/step\n",
      "1/1 [==============================] - 0s 25ms/step\n",
      "1/1 [==============================] - 0s 26ms/step\n",
      "1/1 [==============================] - 0s 23ms/step\n",
      "1/1 [==============================] - 0s 24ms/step\n",
      "1/1 [==============================] - 0s 25ms/step\n",
      "1/1 [==============================] - 0s 25ms/step\n",
      "1/1 [==============================] - 0s 23ms/step\n",
      "1/1 [==============================] - 0s 22ms/step\n",
      "1/1 [==============================] - 0s 23ms/step\n",
      "1/1 [==============================] - 0s 24ms/step\n",
      "1/1 [==============================] - 0s 23ms/step\n",
      "1/1 [==============================] - 0s 26ms/step\n",
      "1/1 [==============================] - 0s 25ms/step\n",
      "1/1 [==============================] - 0s 25ms/step\n",
      "1/1 [==============================] - 0s 26ms/step\n",
      "1/1 [==============================] - 0s 26ms/step\n",
      "1/1 [==============================] - 0s 24ms/step\n",
      "1/1 [==============================] - 0s 23ms/step\n",
      "1/1 [==============================] - 0s 23ms/step\n",
      "1/1 [==============================] - 0s 23ms/step\n",
      "1/1 [==============================] - 0s 23ms/step\n",
      "1/1 [==============================] - 0s 23ms/step\n",
      "1/1 [==============================] - 0s 23ms/step\n",
      "1/1 [==============================] - 0s 25ms/step\n",
      "1/1 [==============================] - 0s 23ms/step\n",
      "1/1 [==============================] - 0s 23ms/step\n",
      "1/1 [==============================] - 0s 26ms/step\n",
      "1/1 [==============================] - 0s 23ms/step\n",
      "1/1 [==============================] - 0s 24ms/step\n",
      "1/1 [==============================] - 0s 24ms/step\n",
      "1/1 [==============================] - 0s 23ms/step\n",
      "1/1 [==============================] - 0s 23ms/step\n",
      "1/1 [==============================] - 0s 24ms/step\n",
      "1/1 [==============================] - 0s 24ms/step\n",
      "1/1 [==============================] - 0s 24ms/step\n",
      "1/1 [==============================] - 0s 22ms/step\n",
      "1/1 [==============================] - 0s 23ms/step\n",
      "1/1 [==============================] - 0s 23ms/step\n",
      "1/1 [==============================] - 0s 23ms/step\n",
      "1/1 [==============================] - 0s 24ms/step\n",
      "1/1 [==============================] - 0s 24ms/step\n",
      "1/1 [==============================] - 0s 24ms/step\n",
      "1/1 [==============================] - 0s 24ms/step\n",
      "1/1 [==============================] - 0s 25ms/step\n",
      "1/1 [==============================] - 0s 24ms/step\n",
      "1/1 [==============================] - 0s 24ms/step\n",
      "1/1 [==============================] - 0s 25ms/step\n",
      "1/1 [==============================] - 0s 25ms/step\n",
      "1/1 [==============================] - 0s 23ms/step\n",
      "1/1 [==============================] - 0s 23ms/step\n",
      "1/1 [==============================] - 0s 24ms/step\n",
      "1/1 [==============================] - 0s 24ms/step\n",
      "1/1 [==============================] - 0s 26ms/step\n",
      "1/1 [==============================] - 0s 27ms/step\n",
      "1/1 [==============================] - 0s 24ms/step\n",
      "1/1 [==============================] - 0s 23ms/step\n",
      "1/1 [==============================] - 0s 23ms/step\n",
      "1/1 [==============================] - 0s 26ms/step\n",
      "1/1 [==============================] - 0s 23ms/step\n",
      "1/1 [==============================] - 0s 23ms/step\n",
      "1/1 [==============================] - 0s 24ms/step\n",
      "1/1 [==============================] - 0s 23ms/step\n",
      "1/1 [==============================] - 0s 25ms/step\n",
      "1/1 [==============================] - 0s 25ms/step\n",
      "1/1 [==============================] - 0s 23ms/step\n",
      "1/1 [==============================] - 0s 23ms/step\n",
      "1/1 [==============================] - 0s 25ms/step\n",
      "1/1 [==============================] - 0s 26ms/step\n",
      "1/1 [==============================] - 0s 24ms/step\n",
      "1/1 [==============================] - 0s 23ms/step\n",
      "1/1 [==============================] - 0s 25ms/step\n",
      "1/1 [==============================] - 0s 24ms/step\n",
      "1/1 [==============================] - 0s 24ms/step\n",
      "1/1 [==============================] - 0s 23ms/step\n",
      "1/1 [==============================] - 0s 25ms/step\n",
      "1/1 [==============================] - 0s 23ms/step\n",
      "1/1 [==============================] - 0s 24ms/step\n",
      "1/1 [==============================] - 0s 24ms/step\n",
      "1/1 [==============================] - 0s 24ms/step\n",
      "1/1 [==============================] - 0s 26ms/step\n",
      "1/1 [==============================] - 0s 24ms/step\n",
      "1/1 [==============================] - 0s 26ms/step\n",
      "1/1 [==============================] - 0s 25ms/step\n",
      "1/1 [==============================] - 0s 27ms/step\n",
      "1/1 [==============================] - 0s 25ms/step\n",
      "1/1 [==============================] - 0s 24ms/step\n",
      "1/1 [==============================] - 0s 26ms/step\n",
      "1/1 [==============================] - 0s 26ms/step\n",
      "1/1 [==============================] - 0s 24ms/step\n",
      "1/1 [==============================] - 0s 24ms/step\n",
      "1/1 [==============================] - 0s 23ms/step\n",
      "1/1 [==============================] - 0s 23ms/step\n",
      "1/1 [==============================] - 0s 24ms/step\n",
      "1/1 [==============================] - 0s 25ms/step\n",
      "1/1 [==============================] - 0s 26ms/step\n",
      "1/1 [==============================] - 0s 23ms/step\n",
      "1/1 [==============================] - 0s 24ms/step\n",
      "1/1 [==============================] - 0s 23ms/step\n",
      "1/1 [==============================] - 0s 23ms/step\n",
      "1/1 [==============================] - 0s 24ms/step\n",
      "1/1 [==============================] - 0s 25ms/step\n",
      "1/1 [==============================] - 0s 25ms/step\n",
      "1/1 [==============================] - 0s 24ms/step\n",
      "1/1 [==============================] - 0s 24ms/step\n",
      "1/1 [==============================] - 0s 23ms/step\n",
      "1/1 [==============================] - 0s 24ms/step\n",
      "1/1 [==============================] - 0s 25ms/step\n",
      "1/1 [==============================] - 0s 26ms/step\n",
      "1/1 [==============================] - 0s 24ms/step\n",
      "1/1 [==============================] - 0s 24ms/step\n",
      "1/1 [==============================] - 0s 25ms/step\n",
      "1/1 [==============================] - 0s 33ms/step\n",
      "1/1 [==============================] - 0s 46ms/step\n",
      "1/1 [==============================] - 0s 32ms/step\n",
      "1/1 [==============================] - 0s 26ms/step\n",
      "1/1 [==============================] - 0s 27ms/step\n",
      "1/1 [==============================] - 0s 27ms/step\n",
      "1/1 [==============================] - 0s 27ms/step\n",
      "1/1 [==============================] - 0s 24ms/step\n",
      "1/1 [==============================] - 0s 24ms/step\n",
      "1/1 [==============================] - 0s 26ms/step\n",
      "1/1 [==============================] - 0s 24ms/step\n",
      "1/1 [==============================] - 0s 24ms/step\n",
      "1/1 [==============================] - 0s 33ms/step\n",
      "1/1 [==============================] - 0s 27ms/step\n",
      "1/1 [==============================] - 0s 24ms/step\n",
      "1/1 [==============================] - 0s 25ms/step\n",
      "1/1 [==============================] - 0s 31ms/step\n",
      "1/1 [==============================] - 0s 24ms/step\n",
      "1/1 [==============================] - 0s 24ms/step\n",
      "1/1 [==============================] - 0s 23ms/step\n",
      "1/1 [==============================] - 0s 24ms/step\n",
      "1/1 [==============================] - 0s 26ms/step\n",
      "1/1 [==============================] - 0s 24ms/step\n",
      "1/1 [==============================] - 0s 23ms/step\n",
      "1/1 [==============================] - 0s 23ms/step\n",
      "1/1 [==============================] - 0s 24ms/step\n",
      "1/1 [==============================] - 0s 24ms/step\n",
      "1/1 [==============================] - 0s 23ms/step\n",
      "1/1 [==============================] - 0s 23ms/step\n",
      "1/1 [==============================] - 0s 29ms/step\n",
      "1/1 [==============================] - 0s 24ms/step\n",
      "1/1 [==============================] - 0s 24ms/step\n",
      "1/1 [==============================] - 0s 24ms/step\n",
      "1/1 [==============================] - 0s 24ms/step\n",
      "1/1 [==============================] - 0s 24ms/step\n",
      "1/1 [==============================] - 0s 26ms/step\n",
      "1/1 [==============================] - 0s 25ms/step\n",
      "1/1 [==============================] - 0s 23ms/step\n",
      "1/1 [==============================] - 0s 25ms/step\n",
      "1/1 [==============================] - 0s 23ms/step\n",
      "1/1 [==============================] - 0s 26ms/step\n",
      "1/1 [==============================] - 0s 25ms/step\n",
      "1/1 [==============================] - 0s 23ms/step\n",
      "1/1 [==============================] - 0s 25ms/step\n",
      "1/1 [==============================] - 0s 25ms/step\n",
      "1/1 [==============================] - 0s 24ms/step\n",
      "1/1 [==============================] - 0s 25ms/step\n",
      "1/1 [==============================] - 0s 25ms/step\n",
      "1/1 [==============================] - 0s 24ms/step\n",
      "1/1 [==============================] - 0s 24ms/step\n",
      "1/1 [==============================] - 0s 25ms/step\n",
      "1/1 [==============================] - 0s 26ms/step\n",
      "1/1 [==============================] - 0s 24ms/step\n",
      "1/1 [==============================] - 0s 23ms/step\n",
      "1/1 [==============================] - 0s 26ms/step\n",
      "1/1 [==============================] - 0s 24ms/step\n",
      "1/1 [==============================] - 0s 25ms/step\n",
      "1/1 [==============================] - 0s 24ms/step\n",
      "1/1 [==============================] - 0s 23ms/step\n",
      "1/1 [==============================] - 0s 24ms/step\n",
      "1/1 [==============================] - 0s 24ms/step\n",
      "1/1 [==============================] - 0s 23ms/step\n",
      "1/1 [==============================] - 0s 23ms/step\n",
      "1/1 [==============================] - 0s 23ms/step\n",
      "1/1 [==============================] - 0s 26ms/step\n",
      "1/1 [==============================] - 0s 24ms/step\n",
      "1/1 [==============================] - 0s 25ms/step\n",
      "1/1 [==============================] - 0s 29ms/step\n",
      "1/1 [==============================] - 0s 26ms/step\n",
      "1/1 [==============================] - 0s 27ms/step\n",
      "1/1 [==============================] - 0s 25ms/step\n",
      "1/1 [==============================] - 0s 25ms/step\n",
      "1/1 [==============================] - 0s 24ms/step\n",
      "1/1 [==============================] - 0s 24ms/step\n",
      "1/1 [==============================] - 0s 24ms/step\n",
      "1/1 [==============================] - 0s 24ms/step\n",
      "1/1 [==============================] - 0s 26ms/step\n",
      "1/1 [==============================] - 0s 26ms/step\n",
      "1/1 [==============================] - 0s 24ms/step\n",
      "1/1 [==============================] - 0s 24ms/step\n",
      "1/1 [==============================] - 0s 24ms/step\n",
      "1/1 [==============================] - 0s 23ms/step\n",
      "1/1 [==============================] - 0s 24ms/step\n",
      "1/1 [==============================] - 0s 26ms/step\n",
      "1/1 [==============================] - 0s 26ms/step\n",
      "1/1 [==============================] - 0s 24ms/step\n",
      "1/1 [==============================] - 0s 26ms/step\n",
      "1/1 [==============================] - 0s 26ms/step\n",
      "1/1 [==============================] - 0s 26ms/step\n",
      "1/1 [==============================] - 0s 27ms/step\n",
      "1/1 [==============================] - 0s 24ms/step\n",
      "1/1 [==============================] - 0s 24ms/step\n",
      "1/1 [==============================] - 0s 26ms/step\n",
      "1/1 [==============================] - 0s 25ms/step\n",
      "1/1 [==============================] - 0s 26ms/step\n",
      "1/1 [==============================] - 0s 25ms/step\n",
      "1/1 [==============================] - 0s 24ms/step\n",
      "1/1 [==============================] - 0s 24ms/step\n",
      "1/1 [==============================] - 0s 24ms/step\n",
      "1/1 [==============================] - 0s 24ms/step\n",
      "1/1 [==============================] - 0s 27ms/step\n",
      "1/1 [==============================] - 0s 24ms/step\n",
      "1/1 [==============================] - 0s 26ms/step\n",
      "1/1 [==============================] - 0s 24ms/step\n",
      "1/1 [==============================] - 0s 24ms/step\n",
      "1/1 [==============================] - 0s 24ms/step\n",
      "1/1 [==============================] - 0s 24ms/step\n",
      "1/1 [==============================] - 0s 24ms/step\n",
      "1/1 [==============================] - 0s 24ms/step\n"
     ]
    }
   ],
   "source": [
    "# Initialise values\n",
    "test_predictions = []\n",
    "first_eval_batch = scaled_shortened_train[-length:]\n",
    "current_batch = first_eval_batch.reshape((1, length, n_features))\n",
    "\n",
    "# Make a for look the keeps appending the predictions\n",
    "# predict value, add to array, move the historical values array by one place\n",
    "for i in range(len(test_shortened)) :\n",
    "    # Get the current predictions\n",
    "    current_pred = model.predict(current_batch)[0]\n",
    "    # Append it to the list\n",
    "    test_predictions.append(current_pred)\n",
    "    # Move the current batch along by one timestamp, and add current pred at the end\n",
    "    current_batch = np.append(current_batch[:,1:,:], [[current_pred]], axis=1)"
   ]
  },
  {
   "cell_type": "code",
   "execution_count": 15,
   "id": "12652866",
   "metadata": {
    "execution": {
     "iopub.execute_input": "2023-02-21T20:24:15.944285Z",
     "iopub.status.busy": "2023-02-21T20:24:15.943500Z",
     "iopub.status.idle": "2023-02-21T20:24:16.259632Z",
     "shell.execute_reply": "2023-02-21T20:24:16.258351Z"
    },
    "papermill": {
     "duration": 0.761436,
     "end_time": "2023-02-21T20:24:16.262395",
     "exception": false,
     "start_time": "2023-02-21T20:24:15.500959",
     "status": "completed"
    },
    "tags": []
   },
   "outputs": [
    {
     "name": "stderr",
     "output_type": "stream",
     "text": [
      "/opt/conda/lib/python3.7/site-packages/ipykernel_launcher.py:4: SettingWithCopyWarning: \n",
      "A value is trying to be set on a copy of a slice from a DataFrame.\n",
      "Try using .loc[row_indexer,col_indexer] = value instead\n",
      "\n",
      "See the caveats in the documentation: https://pandas.pydata.org/pandas-docs/stable/user_guide/indexing.html#returning-a-view-versus-a-copy\n",
      "  after removing the cwd from sys.path.\n"
     ]
    },
    {
     "data": {
      "text/plain": [
       "<AxesSubplot:>"
      ]
     },
     "execution_count": 15,
     "metadata": {},
     "output_type": "execute_result"
    },
    {
     "data": {
      "image/png": "[encoded data removed]",
      "text/plain": [
       "<Figure size 1200x800 with 1 Axes>"
      ]
     },
     "metadata": {},
     "output_type": "display_data"
    }
   ],
   "source": [
    "# Inverse transformation of predictions\n",
    "true_predictions = scaler.inverse_transform(test_predictions)\n",
    "# Add the test predictions to the test df\n",
    "test_shortened[\"Predictions\"] = true_predictions\n",
    "\n",
    "# Plot the predictions along with the true values\n",
    "test_shortened.plot(figsize=(12,8))"
   ]
  },
  {
   "cell_type": "markdown",
   "id": "96a0a25c",
   "metadata": {
    "papermill": {
     "duration": 0.504169,
     "end_time": "2023-02-21T20:24:17.212181",
     "exception": false,
     "start_time": "2023-02-21T20:24:16.708012",
     "status": "completed"
    },
    "tags": []
   },
   "source": [
    "The initial attempt was horrible. It didn't even follow the broad trend. I increased the length and batch size, and it was a bit better. I did the following steps:\n",
    "* Increase training set size\n",
    "* Incorporate call backs\n",
    "* Implement LTSM instead of SimpleRNN\n",
    "\n",
    "Now,the training data was different, but less good - it was undercutting the true data significantly."
   ]
  }
 ],
 "metadata": {
  "kernelspec": {
   "display_name": "Python 3",
   "language": "python",
   "name": "python3"
  },
  "language_info": {
   "codemirror_mode": {
    "name": "ipython",
    "version": 3
   },
   "file_extension": ".py",
   "mimetype": "text/x-python",
   "name": "python",
   "nbconvert_exporter": "python",
   "pygments_lexer": "ipython3",
   "version": "3.7.12"
  },
  "papermill": {
   "default_parameters": {},
   "duration": 662.645074,
   "end_time": "2023-02-21T20:24:21.237490",
   "environment_variables": {},
   "exception": null,
   "input_path": "__notebook__.ipynb",
   "output_path": "__notebook__.ipynb",
   "parameters": {},
   "start_time": "2023-02-21T20:13:18.592416",
   "version": "2.3.4"
  }
 },
 "nbformat": 4,
 "nbformat_minor": 5
}
